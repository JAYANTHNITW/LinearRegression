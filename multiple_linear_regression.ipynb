{
 "cells": [
  {
   "cell_type": "markdown",
   "metadata": {
    "colab_type": "text",
    "id": "CazISR8X_HUG"
   },
   "source": [
    "# Multiple Linear Regression"
   ]
  },
  {
   "cell_type": "markdown",
   "metadata": {
    "colab_type": "text",
    "id": "pOyqYHTk_Q57"
   },
   "source": [
    "## Importing the libraries"
   ]
  },
  {
   "cell_type": "markdown",
   "metadata": {},
   "source": [
    "Aim: Dep upon the #hours studied , #hours slept, IQ, loc   --->predict maks"
   ]
  },
  {
   "cell_type": "code",
   "execution_count": 1,
   "metadata": {
    "colab": {},
    "colab_type": "code",
    "id": "T_YHJjnD_Tja"
   },
   "outputs": [],
   "source": [
    "import numpy as np\n",
    "import pandas as pd"
   ]
  },
  {
   "cell_type": "markdown",
   "metadata": {},
   "source": [
    "Creating the dataset"
   ]
  },
  {
   "cell_type": "markdown",
   "metadata": {},
   "source": [
    "y = b0 +b1*x1 +b2*x2 +b3*x3 +b4*x4\n"
   ]
  },
  {
   "cell_type": "code",
   "execution_count": 2,
   "metadata": {},
   "outputs": [
    {
     "data": {
      "text/html": [
       "<div>\n",
       "<style scoped>\n",
       "    .dataframe tbody tr th:only-of-type {\n",
       "        vertical-align: middle;\n",
       "    }\n",
       "\n",
       "    .dataframe tbody tr th {\n",
       "        vertical-align: top;\n",
       "    }\n",
       "\n",
       "    .dataframe thead th {\n",
       "        text-align: right;\n",
       "    }\n",
       "</style>\n",
       "<table border=\"1\" class=\"dataframe\">\n",
       "  <thead>\n",
       "    <tr style=\"text-align: right;\">\n",
       "      <th></th>\n",
       "      <th>Hours_studied</th>\n",
       "      <th>Hours_slept</th>\n",
       "      <th>iQ</th>\n",
       "    </tr>\n",
       "  </thead>\n",
       "  <tbody>\n",
       "    <tr>\n",
       "      <th>0</th>\n",
       "      <td>8.204758</td>\n",
       "      <td>8.851692</td>\n",
       "      <td>5.541916</td>\n",
       "    </tr>\n",
       "    <tr>\n",
       "      <th>1</th>\n",
       "      <td>7.384167</td>\n",
       "      <td>0.297860</td>\n",
       "      <td>0.913333</td>\n",
       "    </tr>\n",
       "  </tbody>\n",
       "</table>\n",
       "</div>"
      ],
      "text/plain": [
       "   Hours_studied  Hours_slept        iQ\n",
       "0       8.204758     8.851692  5.541916\n",
       "1       7.384167     0.297860  0.913333"
      ]
     },
     "execution_count": 2,
     "metadata": {},
     "output_type": "execute_result"
    }
   ],
   "source": [
    "from numpy.random import rand\n",
    "\n",
    "df  = pd.DataFrame(rand( 50 , 3)*10, columns = 'Hours_studied Hours_slept iQ '.split())\n",
    "df.head(2)"
   ]
  },
  {
   "cell_type": "code",
   "execution_count": 3,
   "metadata": {},
   "outputs": [
    {
     "data": {
      "text/html": [
       "<div>\n",
       "<style scoped>\n",
       "    .dataframe tbody tr th:only-of-type {\n",
       "        vertical-align: middle;\n",
       "    }\n",
       "\n",
       "    .dataframe tbody tr th {\n",
       "        vertical-align: top;\n",
       "    }\n",
       "\n",
       "    .dataframe thead th {\n",
       "        text-align: right;\n",
       "    }\n",
       "</style>\n",
       "<table border=\"1\" class=\"dataframe\">\n",
       "  <thead>\n",
       "    <tr style=\"text-align: right;\">\n",
       "      <th></th>\n",
       "      <th>Hours_studied</th>\n",
       "      <th>Hours_slept</th>\n",
       "      <th>iQ</th>\n",
       "      <th>Location</th>\n",
       "    </tr>\n",
       "  </thead>\n",
       "  <tbody>\n",
       "    <tr>\n",
       "      <th>0</th>\n",
       "      <td>8.204758</td>\n",
       "      <td>8.851692</td>\n",
       "      <td>5.541916</td>\n",
       "      <td>Pune</td>\n",
       "    </tr>\n",
       "    <tr>\n",
       "      <th>1</th>\n",
       "      <td>7.384167</td>\n",
       "      <td>0.297860</td>\n",
       "      <td>0.913333</td>\n",
       "      <td>New Delhi</td>\n",
       "    </tr>\n",
       "    <tr>\n",
       "      <th>2</th>\n",
       "      <td>6.709420</td>\n",
       "      <td>6.866250</td>\n",
       "      <td>0.560222</td>\n",
       "      <td>Pune</td>\n",
       "    </tr>\n",
       "    <tr>\n",
       "      <th>3</th>\n",
       "      <td>2.618587</td>\n",
       "      <td>2.435272</td>\n",
       "      <td>9.752401</td>\n",
       "      <td>Pune</td>\n",
       "    </tr>\n",
       "    <tr>\n",
       "      <th>4</th>\n",
       "      <td>9.492454</td>\n",
       "      <td>1.800359</td>\n",
       "      <td>4.000938</td>\n",
       "      <td>New Delhi</td>\n",
       "    </tr>\n",
       "  </tbody>\n",
       "</table>\n",
       "</div>"
      ],
      "text/plain": [
       "   Hours_studied  Hours_slept        iQ   Location\n",
       "0       8.204758     8.851692  5.541916       Pune\n",
       "1       7.384167     0.297860  0.913333  New Delhi\n",
       "2       6.709420     6.866250  0.560222       Pune\n",
       "3       2.618587     2.435272  9.752401       Pune\n",
       "4       9.492454     1.800359  4.000938  New Delhi"
      ]
     },
     "execution_count": 3,
     "metadata": {},
     "output_type": "execute_result"
    }
   ],
   "source": [
    "from random import choice\n",
    "\n",
    "location = []\n",
    "for i in range(50):\n",
    "    \n",
    "    location.append(choice([\"New Delhi\" , \"Pune\" , \"Bangalore\"]))\n",
    " \n",
    "\n",
    "df['Location'] = location\n",
    "\n",
    "df.head()"
   ]
  },
  {
   "cell_type": "code",
   "execution_count": 4,
   "metadata": {},
   "outputs": [],
   "source": [
    "df['Marks'] = (1.73 + (3.34*df['Hours_studied'])\n",
    "                    + (2.45*df['Hours_slept'])\n",
    "                    + (1.83*df['iQ']  ))\n",
    "df['Marks'] =  df['Marks'] +np.random.rand(50)*20\n",
    "               \n",
    "df.to_csv('Students.csv',index=False)\n"
   ]
  },
  {
   "cell_type": "code",
   "execution_count": 5,
   "metadata": {},
   "outputs": [
    {
     "data": {
      "text/html": [
       "<div>\n",
       "<style scoped>\n",
       "    .dataframe tbody tr th:only-of-type {\n",
       "        vertical-align: middle;\n",
       "    }\n",
       "\n",
       "    .dataframe tbody tr th {\n",
       "        vertical-align: top;\n",
       "    }\n",
       "\n",
       "    .dataframe thead th {\n",
       "        text-align: right;\n",
       "    }\n",
       "</style>\n",
       "<table border=\"1\" class=\"dataframe\">\n",
       "  <thead>\n",
       "    <tr style=\"text-align: right;\">\n",
       "      <th></th>\n",
       "      <th>Hours_studied</th>\n",
       "      <th>Hours_slept</th>\n",
       "      <th>iQ</th>\n",
       "      <th>Location</th>\n",
       "      <th>Marks</th>\n",
       "    </tr>\n",
       "  </thead>\n",
       "  <tbody>\n",
       "    <tr>\n",
       "      <th>0</th>\n",
       "      <td>8.204758</td>\n",
       "      <td>8.851692</td>\n",
       "      <td>5.541916</td>\n",
       "      <td>Pune</td>\n",
       "      <td>61.353218</td>\n",
       "    </tr>\n",
       "    <tr>\n",
       "      <th>1</th>\n",
       "      <td>7.384167</td>\n",
       "      <td>0.297860</td>\n",
       "      <td>0.913333</td>\n",
       "      <td>New Delhi</td>\n",
       "      <td>33.931078</td>\n",
       "    </tr>\n",
       "    <tr>\n",
       "      <th>2</th>\n",
       "      <td>6.709420</td>\n",
       "      <td>6.866250</td>\n",
       "      <td>0.560222</td>\n",
       "      <td>Pune</td>\n",
       "      <td>45.547257</td>\n",
       "    </tr>\n",
       "    <tr>\n",
       "      <th>3</th>\n",
       "      <td>2.618587</td>\n",
       "      <td>2.435272</td>\n",
       "      <td>9.752401</td>\n",
       "      <td>Pune</td>\n",
       "      <td>38.786991</td>\n",
       "    </tr>\n",
       "    <tr>\n",
       "      <th>4</th>\n",
       "      <td>9.492454</td>\n",
       "      <td>1.800359</td>\n",
       "      <td>4.000938</td>\n",
       "      <td>New Delhi</td>\n",
       "      <td>64.524522</td>\n",
       "    </tr>\n",
       "  </tbody>\n",
       "</table>\n",
       "</div>"
      ],
      "text/plain": [
       "   Hours_studied  Hours_slept        iQ   Location      Marks\n",
       "0       8.204758     8.851692  5.541916       Pune  61.353218\n",
       "1       7.384167     0.297860  0.913333  New Delhi  33.931078\n",
       "2       6.709420     6.866250  0.560222       Pune  45.547257\n",
       "3       2.618587     2.435272  9.752401       Pune  38.786991\n",
       "4       9.492454     1.800359  4.000938  New Delhi  64.524522"
      ]
     },
     "execution_count": 5,
     "metadata": {},
     "output_type": "execute_result"
    }
   ],
   "source": [
    "df.head()"
   ]
  },
  {
   "cell_type": "markdown",
   "metadata": {
    "colab_type": "text",
    "id": "vgC61-ah_WIz"
   },
   "source": [
    "## Importing the dataset"
   ]
  },
  {
   "cell_type": "code",
   "execution_count": 6,
   "metadata": {
    "colab": {},
    "colab_type": "code",
    "id": "UrxyEKGn_ez7"
   },
   "outputs": [
    {
     "name": "stdout",
     "output_type": "stream",
     "text": [
      "[[8.20475811907858 8.851691567052583 5.541915796453766 'Pune']\n",
      " [7.384167208052879 0.29786024544546263 0.9133332440410924 'New Delhi']\n",
      " [6.709420367634253 6.866250118762682 0.5602215602680827 'Pune']\n",
      " [2.6185867213836103 2.4352722247822367 9.752400544516247 'Pune']\n",
      " [9.492453803697988 1.8003594027005765 4.0009384506635115 'New Delhi']\n",
      " [0.37576603722391577 1.3842668716348183 6.396029703962327 'Pune']\n",
      " [5.489149445758447 6.44340864539905 4.03050107937026 'New Delhi']\n",
      " [7.999986512159232 0.5191311274589538 2.0954801469345465 'New Delhi']\n",
      " [8.921422662784611 3.4253335690767672 5.272097693438419 'Bangalore']\n",
      " [3.7617682880904377 4.549142039893949 9.718867035590838 'New Delhi']\n",
      " [2.908848728809585 9.590750163881113 9.531488100551908 'Bangalore']\n",
      " [2.8742803291927954 4.244696970603087 0.5367325403924951 'New Delhi']\n",
      " [1.4327205864731152 7.392391928503188 3.8712318740666514 'New Delhi']\n",
      " [4.650112288080132 1.6263131638056452 1.0505939891171812 'Pune']\n",
      " [6.696722228160592 0.2072401422399861 3.1676884018748885 'Bangalore']\n",
      " [8.233487335946668 0.5911546170374293 6.419949737082852 'New Delhi']\n",
      " [8.43303844011663 4.840162092994103 7.660931955369003 'Bangalore']\n",
      " [2.446085719920732 8.35911699310859 1.6921576169273933 'New Delhi']\n",
      " [1.7862791703122152 3.7417185294362456 4.33087501141049 'Pune']\n",
      " [0.23765414338298815 7.316666557990503 3.5210719002324264 'Bangalore']\n",
      " [4.982728955683946 7.477343400744764 7.57293664497714 'Pune']\n",
      " [1.5551777291735958 5.917625146201765 7.8872219995927715 'Pune']\n",
      " [4.039418201228346 7.993182606438472 1.8973131982510003 'Bangalore']\n",
      " [5.478817126075934 3.6868666348904515 7.368984541049789 'Pune']\n",
      " [3.5765364367675496 2.1001582993743195 5.465581337143687 'Pune']\n",
      " [9.73328967282558 9.934858234597788 3.5301184669937227 'New Delhi']\n",
      " [9.162875137367394 8.502345949541539 5.512236520947523 'New Delhi']\n",
      " [2.0507282838256597 6.408146082709504 2.043361261181285 'Bangalore']\n",
      " [0.16651108059044128 7.941285785428237 5.729273276820304 'New Delhi']\n",
      " [6.223750357016571 9.837734379199693 1.0663544589783371 'Bangalore']\n",
      " [6.020373920041129 9.56150685613365 8.301034160066031 'Pune']\n",
      " [4.0688069442828745 9.432992581549245 1.4405705782823377 'New Delhi']\n",
      " [1.6014506625551206 8.325782166969034 5.037479340744993 'Pune']\n",
      " [2.993994226040323 7.765038799676553 9.68173372775225 'New Delhi']\n",
      " [8.875281956968976 9.596463654439304 1.87151303455526 'Pune']\n",
      " [2.091073592425686 6.8896228852530985 5.5899290882939185 'New Delhi']\n",
      " [0.9452147733640814 2.1151134853195366 7.6375151074321534 'Pune']\n",
      " [5.765285198907191 7.121712084494844 8.749693682355371 'Pune']\n",
      " [0.27349521723176506 0.6056328633458852 6.369548622055856 'Bangalore']\n",
      " [3.1641805206495337 6.478389757261055 3.990331241508518 'Bangalore']\n",
      " [8.160148773948743 9.904198297719805 9.787893257434623 'Pune']\n",
      " [1.419924388529732 6.997457453031746 8.469294500875284 'New Delhi']\n",
      " [9.835928600148497 8.191632247896791 8.628348534788794 'New Delhi']\n",
      " [9.17116769124898 4.274819723926358 6.737238850055686 'Bangalore']\n",
      " [8.614298773825862 2.775059917208995 8.845809939782892 'Pune']\n",
      " [4.0458731274023805 1.6838118528507473 8.108542678824756 'New Delhi']\n",
      " [5.035209275582755 6.861101908074051 1.1236222789040449 'New Delhi']\n",
      " [5.796787869406117 9.861540783097055 2.677317910744341 'Bangalore']\n",
      " [3.4449360867569445 4.317220507821548 3.9852323722415535 'New Delhi']\n",
      " [7.0176656100252535 8.920538435688856 6.329964966552067 'Pune']]\n"
     ]
    }
   ],
   "source": [
    "dataset = pd.read_csv('Students.csv')\n",
    "\n",
    "X = dataset.iloc[:, :-1].values\n",
    "y = dataset.iloc[:, -1].values\n",
    "print(X)"
   ]
  },
  {
   "cell_type": "code",
   "execution_count": 7,
   "metadata": {
    "colab": {
     "base_uri": "https://localhost:8080/",
     "height": 857
    },
    "colab_type": "code",
    "executionInfo": {
     "elapsed": 552,
     "status": "ok",
     "timestamp": 1586353652778,
     "user": {
      "displayName": "Hadelin de Ponteves",
      "photoUrl": "https://lh3.googleusercontent.com/a-/AOh14GhEuXdT7eQweUmRPW8_laJuPggSK6hfvpl5a6WBaA=s64",
      "userId": "15047218817161520419"
     },
     "user_tz": -240
    },
    "id": "GOB3QhV9B5kD",
    "outputId": "4a05377a-2db2-43fc-b824-a0710448baee",
    "scrolled": false
   },
   "outputs": [
    {
     "name": "stdout",
     "output_type": "stream",
     "text": [
      "[61.35321792 33.9310784  45.54725745 38.78699119 64.52452158 21.82429649\n",
      " 46.26930495 37.18388726 50.52093639 48.49925993 58.7084002  31.91702858\n",
      " 50.08341193 27.04120314 36.54220619 49.00696583 63.98084178 45.48315445\n",
      " 34.42227449 40.63200894 54.33482122 40.66102239 58.21185192 54.73691754\n",
      " 48.49160355 70.26555015 69.38007675 29.99387159 32.94880374 49.98639859\n",
      " 72.10713531 42.59193873 50.448532   50.39988232 72.04487885 52.73526493\n",
      " 29.99859091 59.72338037 29.27380113 43.5563897  90.86517605 51.78486808\n",
      " 75.13824539 72.91630605 70.81351778 49.5193101  56.08056466 56.36481885\n",
      " 34.20714339 78.0132319 ]\n"
     ]
    }
   ],
   "source": [
    "print(y)"
   ]
  },
  {
   "cell_type": "markdown",
   "metadata": {
    "colab_type": "text",
    "id": "VadrvE7s_lS9"
   },
   "source": [
    "## Encoding categorical data"
   ]
  },
  {
   "cell_type": "code",
   "execution_count": 8,
   "metadata": {
    "colab": {},
    "colab_type": "code",
    "id": "wV3fD1mbAvsh"
   },
   "outputs": [
    {
     "name": "stdout",
     "output_type": "stream",
     "text": [
      "ColumnTransformer(remainder='passthrough',\n",
      "                  transformers=[('encoder', OneHotEncoder(), [3])])\n"
     ]
    }
   ],
   "source": [
    "from sklearn.compose import ColumnTransformer\n",
    "from sklearn.preprocessing import OneHotEncoder\n",
    "ct = ColumnTransformer(transformers=[('encoder', OneHotEncoder(), [3])],  remainder='passthrough')\n",
    "print(ct)\n",
    "\n",
    "X = np.array(ct.fit_transform(X))"
   ]
  },
  {
   "cell_type": "code",
   "execution_count": 9,
   "metadata": {
    "colab": {
     "base_uri": "https://localhost:8080/",
     "height": 857
    },
    "colab_type": "code",
    "executionInfo": {
     "elapsed": 616,
     "status": "ok",
     "timestamp": 1586353657759,
     "user": {
      "displayName": "Hadelin de Ponteves",
      "photoUrl": "https://lh3.googleusercontent.com/a-/AOh14GhEuXdT7eQweUmRPW8_laJuPggSK6hfvpl5a6WBaA=s64",
      "userId": "15047218817161520419"
     },
     "user_tz": -240
    },
    "id": "4ym3HdYeCGYG",
    "outputId": "ce09e670-cf06-4a1c-f5b0-89422aae0496"
   },
   "outputs": [
    {
     "name": "stdout",
     "output_type": "stream",
     "text": [
      "[[0.0 0.0 1.0 8.20475811907858 8.851691567052583 5.541915796453766]\n",
      " [0.0 1.0 0.0 7.384167208052879 0.29786024544546263 0.9133332440410924]\n",
      " [0.0 0.0 1.0 6.709420367634253 6.866250118762682 0.5602215602680827]\n",
      " [0.0 0.0 1.0 2.6185867213836103 2.4352722247822367 9.752400544516247]\n",
      " [0.0 1.0 0.0 9.492453803697988 1.8003594027005765 4.0009384506635115]\n",
      " [0.0 0.0 1.0 0.37576603722391577 1.3842668716348183 6.396029703962327]\n",
      " [0.0 1.0 0.0 5.489149445758447 6.44340864539905 4.03050107937026]\n",
      " [0.0 1.0 0.0 7.999986512159232 0.5191311274589538 2.0954801469345465]\n",
      " [1.0 0.0 0.0 8.921422662784611 3.4253335690767672 5.272097693438419]\n",
      " [0.0 1.0 0.0 3.7617682880904377 4.549142039893949 9.718867035590838]\n",
      " [1.0 0.0 0.0 2.908848728809585 9.590750163881113 9.531488100551908]\n",
      " [0.0 1.0 0.0 2.8742803291927954 4.244696970603087 0.5367325403924951]\n",
      " [0.0 1.0 0.0 1.4327205864731152 7.392391928503188 3.8712318740666514]\n",
      " [0.0 0.0 1.0 4.650112288080132 1.6263131638056452 1.0505939891171812]\n",
      " [1.0 0.0 0.0 6.696722228160592 0.2072401422399861 3.1676884018748885]\n",
      " [0.0 1.0 0.0 8.233487335946668 0.5911546170374293 6.419949737082852]\n",
      " [1.0 0.0 0.0 8.43303844011663 4.840162092994103 7.660931955369003]\n",
      " [0.0 1.0 0.0 2.446085719920732 8.35911699310859 1.6921576169273933]\n",
      " [0.0 0.0 1.0 1.7862791703122152 3.7417185294362456 4.33087501141049]\n",
      " [1.0 0.0 0.0 0.23765414338298815 7.316666557990503 3.5210719002324264]\n",
      " [0.0 0.0 1.0 4.982728955683946 7.477343400744764 7.57293664497714]\n",
      " [0.0 0.0 1.0 1.5551777291735958 5.917625146201765 7.8872219995927715]\n",
      " [1.0 0.0 0.0 4.039418201228346 7.993182606438472 1.8973131982510003]\n",
      " [0.0 0.0 1.0 5.478817126075934 3.6868666348904515 7.368984541049789]\n",
      " [0.0 0.0 1.0 3.5765364367675496 2.1001582993743195 5.465581337143687]\n",
      " [0.0 1.0 0.0 9.73328967282558 9.934858234597788 3.5301184669937227]\n",
      " [0.0 1.0 0.0 9.162875137367394 8.502345949541539 5.512236520947523]\n",
      " [1.0 0.0 0.0 2.0507282838256597 6.408146082709504 2.043361261181285]\n",
      " [0.0 1.0 0.0 0.16651108059044128 7.941285785428237 5.729273276820304]\n",
      " [1.0 0.0 0.0 6.223750357016571 9.837734379199693 1.0663544589783371]\n",
      " [0.0 0.0 1.0 6.020373920041129 9.56150685613365 8.301034160066031]\n",
      " [0.0 1.0 0.0 4.0688069442828745 9.432992581549245 1.4405705782823377]\n",
      " [0.0 0.0 1.0 1.6014506625551206 8.325782166969034 5.037479340744993]\n",
      " [0.0 1.0 0.0 2.993994226040323 7.765038799676553 9.68173372775225]\n",
      " [0.0 0.0 1.0 8.875281956968976 9.596463654439304 1.87151303455526]\n",
      " [0.0 1.0 0.0 2.091073592425686 6.8896228852530985 5.5899290882939185]\n",
      " [0.0 0.0 1.0 0.9452147733640814 2.1151134853195366 7.6375151074321534]\n",
      " [0.0 0.0 1.0 5.765285198907191 7.121712084494844 8.749693682355371]\n",
      " [1.0 0.0 0.0 0.27349521723176506 0.6056328633458852 6.369548622055856]\n",
      " [1.0 0.0 0.0 3.1641805206495337 6.478389757261055 3.990331241508518]\n",
      " [0.0 0.0 1.0 8.160148773948743 9.904198297719805 9.787893257434623]\n",
      " [0.0 1.0 0.0 1.419924388529732 6.997457453031746 8.469294500875284]\n",
      " [0.0 1.0 0.0 9.835928600148497 8.191632247896791 8.628348534788794]\n",
      " [1.0 0.0 0.0 9.17116769124898 4.274819723926358 6.737238850055686]\n",
      " [0.0 0.0 1.0 8.614298773825862 2.775059917208995 8.845809939782892]\n",
      " [0.0 1.0 0.0 4.0458731274023805 1.6838118528507473 8.108542678824756]\n",
      " [0.0 1.0 0.0 5.035209275582755 6.861101908074051 1.1236222789040449]\n",
      " [1.0 0.0 0.0 5.796787869406117 9.861540783097055 2.677317910744341]\n",
      " [0.0 1.0 0.0 3.4449360867569445 4.317220507821548 3.9852323722415535]\n",
      " [0.0 0.0 1.0 7.0176656100252535 8.920538435688856 6.329964966552067]]\n"
     ]
    }
   ],
   "source": [
    "print(X)\n",
    "\n",
    "\n",
    "\n",
    "\n"
   ]
  },
  {
   "cell_type": "markdown",
   "metadata": {
    "colab_type": "text",
    "id": "WemVnqgeA70k"
   },
   "source": [
    "## Splitting the dataset into the Training set and Test set"
   ]
  },
  {
   "cell_type": "code",
   "execution_count": 10,
   "metadata": {
    "colab": {},
    "colab_type": "code",
    "id": "Kb_v_ae-A-20"
   },
   "outputs": [
    {
     "data": {
      "text/plain": [
       "array([32.94880374, 31.91702858, 58.7084002 , 51.78486808, 45.54725745,\n",
       "       29.99387159, 29.27380113, 42.59193873, 58.21185192, 64.52452158])"
      ]
     },
     "execution_count": 10,
     "metadata": {},
     "output_type": "execute_result"
    }
   ],
   "source": [
    "from sklearn.model_selection import train_test_split\n",
    "X_train, X_test, y_train , y_test = train_test_split(X, y, test_size = 0.2, random_state = 0)\n",
    "y_test"
   ]
  },
  {
   "cell_type": "markdown",
   "metadata": {
    "colab_type": "text",
    "id": "k-McZVsQBINc"
   },
   "source": [
    "## Training the Multiple Linear Regression model on the Training set"
   ]
  },
  {
   "cell_type": "code",
   "execution_count": 11,
   "metadata": {
    "colab": {
     "base_uri": "https://localhost:8080/",
     "height": 34
    },
    "colab_type": "code",
    "executionInfo": {
     "elapsed": 757,
     "status": "ok",
     "timestamp": 1586353664008,
     "user": {
      "displayName": "Hadelin de Ponteves",
      "photoUrl": "https://lh3.googleusercontent.com/a-/AOh14GhEuXdT7eQweUmRPW8_laJuPggSK6hfvpl5a6WBaA=s64",
      "userId": "15047218817161520419"
     },
     "user_tz": -240
    },
    "id": "ywPjx0L1BMiD",
    "outputId": "099836bc-4d85-4b4f-a488-093faf02e8cb"
   },
   "outputs": [
    {
     "data": {
      "text/plain": [
       "LinearRegression()"
      ]
     },
     "execution_count": 11,
     "metadata": {},
     "output_type": "execute_result"
    }
   ],
   "source": [
    "from sklearn.linear_model import LinearRegression\n",
    "regressor = LinearRegression()\n",
    "regressor.fit(X_train, y_train)"
   ]
  },
  {
   "cell_type": "markdown",
   "metadata": {
    "colab_type": "text",
    "id": "xNkXL1YQBiBT"
   },
   "source": [
    "## Predicting the Test set results"
   ]
  },
  {
   "cell_type": "code",
   "execution_count": 13,
   "metadata": {
    "colab": {
     "base_uri": "https://localhost:8080/",
     "height": 185
    },
    "colab_type": "code",
    "executionInfo": {
     "elapsed": 951,
     "status": "ok",
     "timestamp": 1586353666678,
     "user": {
      "displayName": "Hadelin de Ponteves",
      "photoUrl": "https://lh3.googleusercontent.com/a-/AOh14GhEuXdT7eQweUmRPW8_laJuPggSK6hfvpl5a6WBaA=s64",
      "userId": "15047218817161520419"
     },
     "user_tz": -240
    },
    "id": "TQKmwvtdBkyb",
    "outputId": "493436bf-a4ae-4374-ca16-0b0c25d19457",
    "scrolled": true
   },
   "outputs": [
    {
     "name": "stdout",
     "output_type": "stream",
     "text": [
      "\n",
      "\n",
      "\n",
      "Predicted  Actual\n",
      "[[42.12 32.95]\n",
      " [31.12 31.92]\n",
      " [61.78 58.71]\n",
      " [48.59 51.78]\n",
      " [51.92 45.55]\n",
      " [36.59 29.99]\n",
      " [23.09 29.27]\n",
      " [50.72 42.59]\n",
      " [46.97 58.21]\n",
      " [51.95 64.52]]\n"
     ]
    }
   ],
   "source": [
    "y_pred = regressor.predict(X_test)\n",
    "\n",
    "np.set_printoptions(precision=2)\n",
    "print(\"\\n\\n\\nPredicted  Actual\")\n",
    "print(np.concatenate((y_pred.reshape(len(y_pred),1), y_test.reshape(len(y_test),1)),1))"
   ]
  },
  {
   "cell_type": "code",
   "execution_count": 14,
   "metadata": {},
   "outputs": [
    {
     "name": "stdout",
     "output_type": "stream",
     "text": [
      "[[0.0 1.0 0.0 0.16651108059044128 7.941285785428237 5.729273276820304\n",
      "  42.11967966509791 32.94880373565855]\n",
      " [0.0 1.0 0.0 2.8742803291927954 4.244696970603087 0.5367325403924951\n",
      "  31.12215175909779 31.91702857955716]\n",
      " [1.0 0.0 0.0 2.908848728809585 9.590750163881113 9.531488100551908\n",
      "  61.78321343908835 58.70840020094917]\n",
      " [0.0 1.0 0.0 1.419924388529732 6.997457453031746 8.469294500875284\n",
      "  48.59442878481551 51.784868083243275]\n",
      " [0.0 0.0 1.0 6.709420367634253 6.866250118762682 0.5602215602680827\n",
      "  51.91580364849027 45.54725745271558]\n",
      " [1.0 0.0 0.0 2.0507282838256597 6.408146082709504 2.043361261181285\n",
      "  36.585586132863 29.993871587759518]\n",
      " [1.0 0.0 0.0 0.27349521723176506 0.6056328633458852 6.369548622055856\n",
      "  23.089135396509363 29.273801131167325]\n",
      " [0.0 1.0 0.0 4.0688069442828745 9.432992581549245 1.4405705782823377\n",
      "  50.72343624065205 42.5919387287405]\n",
      " [1.0 0.0 0.0 4.039418201228346 7.993182606438472 1.8973131982510003\n",
      "  46.97367990265039 58.21185192274485]\n",
      " [0.0 1.0 0.0 9.492453803697988 1.8003594027005765 4.0009384506635115\n",
      "  51.95178624483894 64.52452157996738]]\n"
     ]
    }
   ],
   "source": [
    "\n",
    "np.set_printoptions(precision=2)\n",
    "print(np.concatenate((X_test ,y_pred.reshape(len(y_pred),1) ,y_test.reshape(len(y_test),1)) ,1))"
   ]
  },
  {
   "cell_type": "code",
   "execution_count": null,
   "metadata": {},
   "outputs": [],
   "source": [
    "len(y_pred)"
   ]
  },
  {
   "cell_type": "code",
   "execution_count": null,
   "metadata": {},
   "outputs": [],
   "source": [
    "y_test"
   ]
  },
  {
   "cell_type": "code",
   "execution_count": null,
   "metadata": {},
   "outputs": [],
   "source": [
    "y_pred"
   ]
  },
  {
   "cell_type": "code",
   "execution_count": null,
   "metadata": {},
   "outputs": [],
   "source": []
  },
  {
   "cell_type": "code",
   "execution_count": null,
   "metadata": {},
   "outputs": [],
   "source": [
    "\n",
    "\n"
   ]
  },
  {
   "cell_type": "code",
   "execution_count": null,
   "metadata": {},
   "outputs": [],
   "source": []
  },
  {
   "cell_type": "code",
   "execution_count": null,
   "metadata": {},
   "outputs": [],
   "source": []
  },
  {
   "cell_type": "code",
   "execution_count": null,
   "metadata": {},
   "outputs": [],
   "source": []
  },
  {
   "cell_type": "code",
   "execution_count": null,
   "metadata": {},
   "outputs": [],
   "source": []
  },
  {
   "cell_type": "code",
   "execution_count": null,
   "metadata": {},
   "outputs": [],
   "source": [
    "\n",
    "\n"
   ]
  },
  {
   "cell_type": "code",
   "execution_count": null,
   "metadata": {},
   "outputs": [],
   "source": []
  },
  {
   "cell_type": "code",
   "execution_count": null,
   "metadata": {},
   "outputs": [],
   "source": []
  },
  {
   "cell_type": "code",
   "execution_count": null,
   "metadata": {},
   "outputs": [],
   "source": []
  },
  {
   "cell_type": "code",
   "execution_count": null,
   "metadata": {},
   "outputs": [],
   "source": []
  },
  {
   "cell_type": "code",
   "execution_count": null,
   "metadata": {},
   "outputs": [],
   "source": []
  },
  {
   "cell_type": "code",
   "execution_count": null,
   "metadata": {},
   "outputs": [],
   "source": []
  },
  {
   "cell_type": "code",
   "execution_count": null,
   "metadata": {},
   "outputs": [],
   "source": []
  },
  {
   "cell_type": "code",
   "execution_count": null,
   "metadata": {},
   "outputs": [],
   "source": []
  },
  {
   "cell_type": "code",
   "execution_count": null,
   "metadata": {},
   "outputs": [],
   "source": []
  },
  {
   "cell_type": "code",
   "execution_count": null,
   "metadata": {},
   "outputs": [],
   "source": []
  },
  {
   "cell_type": "code",
   "execution_count": null,
   "metadata": {},
   "outputs": [],
   "source": [
    "\n"
   ]
  },
  {
   "cell_type": "code",
   "execution_count": null,
   "metadata": {},
   "outputs": [],
   "source": []
  },
  {
   "cell_type": "code",
   "execution_count": null,
   "metadata": {},
   "outputs": [],
   "source": [
    "help(np.random.rand)*10"
   ]
  },
  {
   "cell_type": "code",
   "execution_count": null,
   "metadata": {},
   "outputs": [],
   "source": []
  },
  {
   "cell_type": "code",
   "execution_count": null,
   "metadata": {},
   "outputs": [],
   "source": []
  },
  {
   "cell_type": "code",
   "execution_count": null,
   "metadata": {},
   "outputs": [],
   "source": []
  }
 ],
 "metadata": {
  "colab": {
   "authorship_tag": "ABX9TyPhYhte6t7H4wEK4xPpDWT7",
   "name": "Multiple Linear Regression",
   "provenance": [],
   "toc_visible": true
  },
  "kernelspec": {
   "display_name": "Python 3",
   "language": "python",
   "name": "python3"
  },
  "language_info": {
   "codemirror_mode": {
    "name": "ipython",
    "version": 3
   },
   "file_extension": ".py",
   "mimetype": "text/x-python",
   "name": "python",
   "nbconvert_exporter": "python",
   "pygments_lexer": "ipython3",
   "version": "3.8.5"
  }
 },
 "nbformat": 4,
 "nbformat_minor": 1
}
